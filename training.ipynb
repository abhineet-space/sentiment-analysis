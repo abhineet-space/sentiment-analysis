{
 "cells": [
  {
   "cell_type": "code",
   "execution_count": 1,
   "metadata": {},
   "outputs": [],
   "source": [
    "#Importing the required lib.\n",
    "import matplotlib.pyplot as plt\n",
    "from keras.models import Sequential\n",
    "from keras.layers import Dense, Dropout, Flatten\n",
    "from keras.layers import Conv2D, MaxPooling2D\n",
    "from tensorflow.keras.optimizers import Adam\n",
    "from keras.preprocessing.image import ImageDataGenerator"
   ]
  },
  {
   "cell_type": "code",
   "execution_count": 2,
   "metadata": {},
   "outputs": [
    {
     "name": "stdout",
     "output_type": "stream",
     "text": [
      "Found 28709 images belonging to 7 classes.\n",
      "Found 7178 images belonging to 7 classes.\n"
     ]
    }
   ],
   "source": [
    "#Initializing the training and validation generators\n",
    "train_path = 'DataSet/train'\n",
    "val_path = 'DataSet/test'\n",
    "train_datagen = ImageDataGenerator(rescale=1./255)\n",
    "val_datagen = ImageDataGenerator(rescale=1./255)\n",
    "\n",
    "train_generator = train_datagen.flow_from_directory(\n",
    "        train_path,\n",
    "        target_size=(48,48),\n",
    "        batch_size=64,\n",
    "        color_mode=\"grayscale\",\n",
    "        class_mode='categorical')\n",
    "\n",
    "validation_generator = val_datagen.flow_from_directory(\n",
    "        val_path,\n",
    "        target_size=(48,48),\n",
    "        batch_size=64,\n",
    "        color_mode=\"grayscale\",\n",
    "        class_mode='categorical')"
   ]
  },
  {
   "cell_type": "code",
   "execution_count": 3,
   "metadata": {},
   "outputs": [],
   "source": [
    "#Building the convolution network architecture\n",
    "model = Sequential()\n",
    "model.add(Conv2D(32, kernel_size=(3, 3), activation='relu', input_shape=(48, 48, 1)))\n",
    "model.add(Conv2D(64, kernel_size=(3, 3), activation='relu'))\n",
    "model.add(MaxPooling2D(pool_size=(2, 2)))\n",
    "model.add(Dropout(0.25))\n",
    "\n",
    "model.add(Conv2D(128, kernel_size=(3, 3), activation='relu'))\n",
    "model.add(MaxPooling2D(pool_size=(2, 2)))\n",
    "model.add(Conv2D(128, kernel_size=(3, 3), activation='relu'))\n",
    "model.add(MaxPooling2D(pool_size=(2, 2)))\n",
    "model.add(Dropout(0.25))\n",
    "\n",
    "model.add(Flatten())\n",
    "model.add(Dense(1024, activation='relu'))\n",
    "model.add(Dropout(0.5))\n",
    "\n",
    "model.add(Dense(7, activation='softmax'))"
   ]
  },
  {
   "cell_type": "code",
   "execution_count": 5,
   "metadata": {},
   "outputs": [
    {
     "name": "stdout",
     "output_type": "stream",
     "text": [
      "Epoch 1/50\n",
      "448/448 [==============================] - 305s 679ms/step - loss: 1.8003 - accuracy: 0.2623 - val_loss: 1.7059 - val_accuracy: 0.3329\n",
      "Epoch 2/50\n",
      "448/448 [==============================] - 231s 515ms/step - loss: 1.6203 - accuracy: 0.3675 - val_loss: 1.5456 - val_accuracy: 0.4021\n",
      "Epoch 3/50\n",
      "448/448 [==============================] - 231s 516ms/step - loss: 1.5206 - accuracy: 0.4126 - val_loss: 1.4548 - val_accuracy: 0.4427\n",
      "Epoch 4/50\n",
      "448/448 [==============================] - 227s 507ms/step - loss: 1.4483 - accuracy: 0.4439 - val_loss: 1.3955 - val_accuracy: 0.4689\n",
      "Epoch 5/50\n",
      "448/448 [==============================] - 223s 499ms/step - loss: 1.3866 - accuracy: 0.4697 - val_loss: 1.3554 - val_accuracy: 0.4812\n",
      "Epoch 6/50\n",
      "448/448 [==============================] - 214s 478ms/step - loss: 1.3366 - accuracy: 0.4918 - val_loss: 1.2991 - val_accuracy: 0.5099\n",
      "Epoch 7/50\n",
      "448/448 [==============================] - 242s 541ms/step - loss: 1.2899 - accuracy: 0.5089 - val_loss: 1.2664 - val_accuracy: 0.5153\n",
      "Epoch 8/50\n",
      "448/448 [==============================] - 225s 503ms/step - loss: 1.2546 - accuracy: 0.5274 - val_loss: 1.2334 - val_accuracy: 0.5356\n",
      "Epoch 9/50\n",
      "448/448 [==============================] - 203s 453ms/step - loss: 1.2185 - accuracy: 0.5415 - val_loss: 1.2155 - val_accuracy: 0.5398\n",
      "Epoch 10/50\n",
      "448/448 [==============================] - 208s 464ms/step - loss: 1.1870 - accuracy: 0.5536 - val_loss: 1.2041 - val_accuracy: 0.5455\n",
      "Epoch 11/50\n",
      "448/448 [==============================] - 197s 441ms/step - loss: 1.1607 - accuracy: 0.5626 - val_loss: 1.1729 - val_accuracy: 0.5580\n",
      "Epoch 12/50\n",
      "448/448 [==============================] - 216s 483ms/step - loss: 1.1336 - accuracy: 0.5764 - val_loss: 1.1600 - val_accuracy: 0.5639\n",
      "Epoch 13/50\n",
      "448/448 [==============================] - 208s 464ms/step - loss: 1.1027 - accuracy: 0.5882 - val_loss: 1.1449 - val_accuracy: 0.5686\n",
      "Epoch 14/50\n",
      "448/448 [==============================] - 209s 468ms/step - loss: 1.0800 - accuracy: 0.5951 - val_loss: 1.1367 - val_accuracy: 0.5744\n",
      "Epoch 15/50\n",
      "448/448 [==============================] - 248s 553ms/step - loss: 1.0561 - accuracy: 0.6054 - val_loss: 1.1305 - val_accuracy: 0.5746\n",
      "Epoch 16/50\n",
      "448/448 [==============================] - 250s 557ms/step - loss: 1.0334 - accuracy: 0.6134 - val_loss: 1.1205 - val_accuracy: 0.5777\n",
      "Epoch 17/50\n",
      "448/448 [==============================] - 248s 555ms/step - loss: 1.0105 - accuracy: 0.6246 - val_loss: 1.0982 - val_accuracy: 0.5900\n",
      "Epoch 18/50\n",
      "448/448 [==============================] - 216s 483ms/step - loss: 0.9873 - accuracy: 0.6342 - val_loss: 1.1043 - val_accuracy: 0.5898\n",
      "Epoch 19/50\n",
      "448/448 [==============================] - 202s 450ms/step - loss: 0.9645 - accuracy: 0.6415 - val_loss: 1.1086 - val_accuracy: 0.5883\n",
      "Epoch 20/50\n",
      "448/448 [==============================] - 192s 429ms/step - loss: 0.9394 - accuracy: 0.6546 - val_loss: 1.0794 - val_accuracy: 0.5960\n",
      "Epoch 21/50\n",
      "448/448 [==============================] - 195s 434ms/step - loss: 0.9179 - accuracy: 0.6634 - val_loss: 1.0797 - val_accuracy: 0.5982\n",
      "Epoch 22/50\n",
      "448/448 [==============================] - 192s 429ms/step - loss: 0.8954 - accuracy: 0.6718 - val_loss: 1.0745 - val_accuracy: 0.5985\n",
      "Epoch 23/50\n",
      "448/448 [==============================] - 193s 432ms/step - loss: 0.8734 - accuracy: 0.6826 - val_loss: 1.0845 - val_accuracy: 0.5981\n",
      "Epoch 24/50\n",
      "448/448 [==============================] - 201s 449ms/step - loss: 0.8523 - accuracy: 0.6874 - val_loss: 1.0828 - val_accuracy: 0.6020\n",
      "Epoch 25/50\n",
      "448/448 [==============================] - 310s 693ms/step - loss: 0.8274 - accuracy: 0.6969 - val_loss: 1.0631 - val_accuracy: 0.6129\n",
      "Epoch 26/50\n",
      "448/448 [==============================] - 433s 966ms/step - loss: 0.8036 - accuracy: 0.7034 - val_loss: 1.0659 - val_accuracy: 0.6117\n",
      "Epoch 27/50\n",
      "448/448 [==============================] - 404s 901ms/step - loss: 0.7791 - accuracy: 0.7160 - val_loss: 1.0659 - val_accuracy: 0.6110\n",
      "Epoch 28/50\n",
      "448/448 [==============================] - 418s 932ms/step - loss: 0.7626 - accuracy: 0.7189 - val_loss: 1.0671 - val_accuracy: 0.6123\n",
      "Epoch 29/50\n",
      "448/448 [==============================] - 412s 918ms/step - loss: 0.7344 - accuracy: 0.7309 - val_loss: 1.0683 - val_accuracy: 0.6180\n",
      "Epoch 30/50\n",
      "448/448 [==============================] - 404s 902ms/step - loss: 0.7114 - accuracy: 0.7419 - val_loss: 1.0847 - val_accuracy: 0.6134\n",
      "Epoch 31/50\n",
      "448/448 [==============================] - 406s 907ms/step - loss: 0.6902 - accuracy: 0.7493 - val_loss: 1.0779 - val_accuracy: 0.6134\n",
      "Epoch 32/50\n",
      "448/448 [==============================] - 408s 911ms/step - loss: 0.6662 - accuracy: 0.7573 - val_loss: 1.0875 - val_accuracy: 0.6136\n",
      "Epoch 33/50\n",
      "448/448 [==============================] - 407s 909ms/step - loss: 0.6445 - accuracy: 0.7659 - val_loss: 1.0970 - val_accuracy: 0.6189\n",
      "Epoch 34/50\n",
      "448/448 [==============================] - 420s 936ms/step - loss: 0.6303 - accuracy: 0.7724 - val_loss: 1.0825 - val_accuracy: 0.6254\n",
      "Epoch 35/50\n",
      "448/448 [==============================] - 402s 898ms/step - loss: 0.6101 - accuracy: 0.7806 - val_loss: 1.0954 - val_accuracy: 0.6162\n",
      "Epoch 36/50\n",
      "448/448 [==============================] - 404s 901ms/step - loss: 0.5886 - accuracy: 0.7875 - val_loss: 1.1046 - val_accuracy: 0.6221\n",
      "Epoch 37/50\n",
      "448/448 [==============================] - 419s 936ms/step - loss: 0.5683 - accuracy: 0.7962 - val_loss: 1.1039 - val_accuracy: 0.6235\n",
      "Epoch 38/50\n",
      "448/448 [==============================] - 407s 908ms/step - loss: 0.5463 - accuracy: 0.8025 - val_loss: 1.1035 - val_accuracy: 0.6200\n",
      "Epoch 39/50\n",
      "448/448 [==============================] - 423s 943ms/step - loss: 0.5307 - accuracy: 0.8084 - val_loss: 1.1123 - val_accuracy: 0.6223\n",
      "Epoch 40/50\n",
      "448/448 [==============================] - 406s 907ms/step - loss: 0.5148 - accuracy: 0.8140 - val_loss: 1.1161 - val_accuracy: 0.6261\n",
      "Epoch 41/50\n",
      "448/448 [==============================] - 403s 900ms/step - loss: 0.5006 - accuracy: 0.8199 - val_loss: 1.1268 - val_accuracy: 0.6239\n",
      "Epoch 42/50\n",
      "448/448 [==============================] - 308s 687ms/step - loss: 0.4811 - accuracy: 0.8268 - val_loss: 1.1384 - val_accuracy: 0.6189\n",
      "Epoch 43/50\n",
      "448/448 [==============================] - 205s 457ms/step - loss: 0.4632 - accuracy: 0.8331 - val_loss: 1.1542 - val_accuracy: 0.6253\n",
      "Epoch 44/50\n",
      "448/448 [==============================] - 193s 432ms/step - loss: 0.4519 - accuracy: 0.8378 - val_loss: 1.1627 - val_accuracy: 0.6187\n",
      "Epoch 45/50\n",
      "448/448 [==============================] - 200s 447ms/step - loss: 0.4366 - accuracy: 0.8414 - val_loss: 1.1838 - val_accuracy: 0.6260\n",
      "Epoch 46/50\n",
      "448/448 [==============================] - 205s 457ms/step - loss: 0.4198 - accuracy: 0.8492 - val_loss: 1.1586 - val_accuracy: 0.6246\n",
      "Epoch 47/50\n",
      "448/448 [==============================] - 222s 495ms/step - loss: 0.4085 - accuracy: 0.8526 - val_loss: 1.1877 - val_accuracy: 0.6264\n",
      "Epoch 48/50\n",
      "448/448 [==============================] - 214s 478ms/step - loss: 0.3943 - accuracy: 0.8569 - val_loss: 1.1776 - val_accuracy: 0.6285\n",
      "Epoch 49/50\n",
      "448/448 [==============================] - 219s 489ms/step - loss: 0.3849 - accuracy: 0.8619 - val_loss: 1.2133 - val_accuracy: 0.6249\n",
      "Epoch 50/50\n",
      "448/448 [==============================] - 226s 505ms/step - loss: 0.3689 - accuracy: 0.8675 - val_loss: 1.2214 - val_accuracy: 0.6278\n"
     ]
    }
   ],
   "source": [
    "#Tarining the Model\n",
    "model.compile(loss='categorical_crossentropy', optimizer=Adam(learning_rate=0.0001, decay=1e-6), metrics=['accuracy'])\n",
    "model_history = model.fit(\n",
    "    train_generator,\n",
    "    steps_per_epoch=28709 // 64,\n",
    "    epochs=50,\n",
    "    validation_data=validation_generator,\n",
    "    validation_steps=7178 // 64)"
   ]
  },
  {
   "cell_type": "code",
   "execution_count": 6,
   "metadata": {},
   "outputs": [
    {
     "name": "stdout",
     "output_type": "stream",
     "text": [
      "dict_keys(['loss', 'accuracy', 'val_loss', 'val_accuracy'])\n"
     ]
    }
   ],
   "source": [
    "# list all data in history\n",
    "print(model_history.history.keys())"
   ]
  },
  {
   "cell_type": "code",
   "execution_count": 7,
   "metadata": {},
   "outputs": [
    {
     "data": {
      "image/png": "[encoded data removed]",
      "text/plain": [
       "<Figure size 432x288 with 1 Axes>"
      ]
     },
     "metadata": {
      "needs_background": "light"
     },
     "output_type": "display_data"
    }
   ],
   "source": [
    "# summarize history for loss\n",
    "plt.plot(model_history.history['loss'])\n",
    "plt.plot(model_history.history['val_loss'])\n",
    "plt.title('Model Loss')\n",
    "plt.ylabel('Loss')\n",
    "plt.xlabel('Epochs')\n",
    "plt.legend(['train','test'])\n",
    "plt.show()"
   ]
  },
  {
   "cell_type": "code",
   "execution_count": 8,
   "metadata": {},
   "outputs": [
    {
     "data": {
      "image/png": "[encoded data removed]",
      "text/plain": [
       "<Figure size 432x288 with 1 Axes>"
      ]
     },
     "metadata": {
      "needs_background": "light"
     },
     "output_type": "display_data"
    }
   ],
   "source": [
    "# summarize history for accuracy\n",
    "plt.plot(model_history.history['accuracy'])\n",
    "plt.plot(model_history.history['val_accuracy'])\n",
    "plt.title('Model Accuracy')\n",
    "plt.ylabel('Accuracy')\n",
    "plt.xlabel('Epoch')\n",
    "plt.legend(['train', 'test'], loc='upper left')\n",
    "plt.show()"
   ]
  },
  {
   "cell_type": "code",
   "execution_count": 9,
   "metadata": {},
   "outputs": [],
   "source": [
    "#Saving the Model Weight\n",
    "model.save_weights('model.h5')"
   ]
  },
  {
   "cell_type": "code",
   "execution_count": null,
   "metadata": {},
   "outputs": [],
   "source": []
  }
 ],
 "metadata": {
  "interpreter": {
   "hash": "13eb0af71620a846e484681143862ad0a4deab6cadfc353264e5c14897c11035"
  },
  "kernelspec": {
   "display_name": "Python 3.9.9 64-bit",
   "language": "python",
   "name": "python3"
  },
  "language_info": {
   "codemirror_mode": {
    "name": "ipython",
    "version": 3
   },
   "file_extension": ".py",
   "mimetype": "text/x-python",
   "name": "python",
   "nbconvert_exporter": "python",
   "pygments_lexer": "ipython3",
   "version": "3.9.9"
  },
  "orig_nbformat": 4
 },
 "nbformat": 4,
 "nbformat_minor": 2
}
