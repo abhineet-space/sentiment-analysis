{
 "cells": [
  {
   "cell_type": "code",
   "execution_count": 2,
   "metadata": {},
   "outputs": [],
   "source": [
    "#Importing the required lib.\n",
    "import matplotlib.pyplot as plt\n",
    "from keras.models import Sequential\n",
    "from keras.layers import Dense, Dropout, Flatten\n",
    "from keras.layers import Conv2D, MaxPooling2D\n",
    "from tensorflow.keras.optimizers import Adam\n",
    "from keras.preprocessing.image import ImageDataGenerator"
   ]
  },
  {
   "cell_type": "code",
   "execution_count": 3,
   "metadata": {},
   "outputs": [
    {
     "name": "stdout",
     "output_type": "stream",
     "text": [
      "Found 28709 images belonging to 7 classes.\n",
      "Found 7178 images belonging to 7 classes.\n"
     ]
    }
   ],
   "source": [
    "#Initializing the training and validation generators\n",
    "train_path = 'DataSet/train'\n",
    "val_path = 'DataSet/test'\n",
    "train_datagen = ImageDataGenerator(rescale=1./255)\n",
    "val_datagen = ImageDataGenerator(rescale=1./255)\n",
    "\n",
    "train_generator = train_datagen.flow_from_directory(\n",
    "        train_path,\n",
    "        target_size=(48,48),\n",
    "        batch_size=64,\n",
    "        color_mode=\"grayscale\",\n",
    "        class_mode='categorical')\n",
    "\n",
    "validation_generator = val_datagen.flow_from_directory(\n",
    "        val_path,\n",
    "        target_size=(48,48),\n",
    "        batch_size=64,\n",
    "        color_mode=\"grayscale\",\n",
    "        class_mode='categorical')"
   ]
  },
  {
   "cell_type": "code",
   "execution_count": 4,
   "metadata": {},
   "outputs": [],
   "source": [
    "#Building the convolution network architecture\n",
    "model = Sequential()\n",
    "model.add(Conv2D(32, kernel_size=(3, 3), activation='relu', input_shape=(48, 48, 1)))\n",
    "model.add(Conv2D(64, kernel_size=(3, 3), activation='relu'))\n",
    "model.add(MaxPooling2D(pool_size=(2, 2)))\n",
    "model.add(Dropout(0.25))\n",
    "\n",
    "model.add(Conv2D(128, kernel_size=(3, 3), activation='relu'))\n",
    "model.add(MaxPooling2D(pool_size=(2, 2)))\n",
    "model.add(Conv2D(128, kernel_size=(3, 3), activation='relu'))\n",
    "model.add(MaxPooling2D(pool_size=(2, 2)))\n",
    "model.add(Dropout(0.25))\n",
    "\n",
    "model.add(Flatten())\n",
    "model.add(Dense(1024, activation='relu'))\n",
    "model.add(Dropout(0.5))\n",
    "\n",
    "model.add(Dense(7, activation='softmax'))"
   ]
  },
  {
   "cell_type": "code",
   "execution_count": 5,
   "metadata": {},
   "outputs": [
    {
     "name": "stdout",
     "output_type": "stream",
     "text": [
      "Epoch 1/30\n",
      "448/448 [==============================] - 608s 1s/step - loss: 1.8091 - accuracy: 0.2541 - val_loss: 1.7399 - val_accuracy: 0.3214\n",
      "Epoch 2/30\n",
      "448/448 [==============================] - 559s 1s/step - loss: 1.6345 - accuracy: 0.3607 - val_loss: 1.5385 - val_accuracy: 0.4203\n",
      "Epoch 3/30\n",
      "448/448 [==============================] - 426s 950ms/step - loss: 1.5199 - accuracy: 0.4123 - val_loss: 1.4480 - val_accuracy: 0.4457\n",
      "Epoch 4/30\n",
      "448/448 [==============================] - 408s 910ms/step - loss: 1.4485 - accuracy: 0.4480 - val_loss: 1.3910 - val_accuracy: 0.4697\n",
      "Epoch 5/30\n",
      "448/448 [==============================] - 590s 1s/step - loss: 1.3788 - accuracy: 0.4718 - val_loss: 1.3284 - val_accuracy: 0.4936\n",
      "Epoch 6/30\n",
      "448/448 [==============================] - 551s 1s/step - loss: 1.3277 - accuracy: 0.4959 - val_loss: 1.2953 - val_accuracy: 0.5060\n",
      "Epoch 7/30\n",
      "448/448 [==============================] - 543s 1s/step - loss: 1.2857 - accuracy: 0.5135 - val_loss: 1.2600 - val_accuracy: 0.5176\n",
      "Epoch 8/30\n",
      "448/448 [==============================] - 439s 980ms/step - loss: 1.2504 - accuracy: 0.5282 - val_loss: 1.2334 - val_accuracy: 0.5265\n",
      "Epoch 9/30\n",
      "448/448 [==============================] - 565s 1s/step - loss: 1.2126 - accuracy: 0.5441 - val_loss: 1.2050 - val_accuracy: 0.5384\n",
      "Epoch 10/30\n",
      "448/448 [==============================] - 477s 1s/step - loss: 1.1855 - accuracy: 0.5541 - val_loss: 1.1861 - val_accuracy: 0.5525\n",
      "Epoch 11/30\n",
      "448/448 [==============================] - 425s 949ms/step - loss: 1.1574 - accuracy: 0.5658 - val_loss: 1.1767 - val_accuracy: 0.5547\n",
      "Epoch 12/30\n",
      "448/448 [==============================] - 470s 1s/step - loss: 1.1346 - accuracy: 0.5732 - val_loss: 1.1538 - val_accuracy: 0.5636\n",
      "Epoch 13/30\n",
      "448/448 [==============================] - 419s 935ms/step - loss: 1.1106 - accuracy: 0.5838 - val_loss: 1.1353 - val_accuracy: 0.5692\n",
      "Epoch 14/30\n",
      "448/448 [==============================] - 462s 1s/step - loss: 1.0822 - accuracy: 0.5976 - val_loss: 1.1271 - val_accuracy: 0.5730\n",
      "Epoch 15/30\n",
      "448/448 [==============================] - 388s 865ms/step - loss: 1.0597 - accuracy: 0.6048 - val_loss: 1.1137 - val_accuracy: 0.5783\n",
      "Epoch 16/30\n",
      "448/448 [==============================] - 271s 606ms/step - loss: 1.0403 - accuracy: 0.6105 - val_loss: 1.1059 - val_accuracy: 0.5833\n",
      "Epoch 17/30\n",
      "448/448 [==============================] - 231s 516ms/step - loss: 1.0123 - accuracy: 0.6220 - val_loss: 1.0982 - val_accuracy: 0.5890\n",
      "Epoch 18/30\n",
      "448/448 [==============================] - 202s 450ms/step - loss: 0.9957 - accuracy: 0.6293 - val_loss: 1.0884 - val_accuracy: 0.5915\n",
      "Epoch 19/30\n",
      "448/448 [==============================] - 212s 473ms/step - loss: 0.9732 - accuracy: 0.6374 - val_loss: 1.0844 - val_accuracy: 0.5944\n",
      "Epoch 20/30\n",
      "448/448 [==============================] - 223s 498ms/step - loss: 0.9467 - accuracy: 0.6487 - val_loss: 1.0738 - val_accuracy: 0.5972\n",
      "Epoch 21/30\n",
      "448/448 [==============================] - 214s 478ms/step - loss: 0.9310 - accuracy: 0.6556 - val_loss: 1.0769 - val_accuracy: 0.5975\n",
      "Epoch 22/30\n",
      "448/448 [==============================] - 222s 496ms/step - loss: 0.9131 - accuracy: 0.6604 - val_loss: 1.0683 - val_accuracy: 0.6011\n",
      "Epoch 23/30\n",
      "448/448 [==============================] - 207s 463ms/step - loss: 0.8927 - accuracy: 0.6706 - val_loss: 1.0807 - val_accuracy: 0.5991\n",
      "Epoch 24/30\n",
      "448/448 [==============================] - 194s 433ms/step - loss: 0.8672 - accuracy: 0.6785 - val_loss: 1.0568 - val_accuracy: 0.6078\n",
      "Epoch 25/30\n",
      "448/448 [==============================] - 210s 468ms/step - loss: 0.8439 - accuracy: 0.6849 - val_loss: 1.0596 - val_accuracy: 0.6066\n",
      "Epoch 26/30\n",
      "448/448 [==============================] - 261s 583ms/step - loss: 0.8218 - accuracy: 0.6996 - val_loss: 1.0608 - val_accuracy: 0.6104\n",
      "Epoch 27/30\n",
      "448/448 [==============================] - 205s 457ms/step - loss: 0.7987 - accuracy: 0.7076 - val_loss: 1.0652 - val_accuracy: 0.6097\n",
      "Epoch 28/30\n",
      "448/448 [==============================] - 302s 674ms/step - loss: 0.7781 - accuracy: 0.7139 - val_loss: 1.0618 - val_accuracy: 0.6099\n",
      "Epoch 29/30\n",
      "448/448 [==============================] - 552s 1s/step - loss: 0.7587 - accuracy: 0.7196 - val_loss: 1.0587 - val_accuracy: 0.6144\n",
      "Epoch 30/30\n",
      "448/448 [==============================] - 426s 951ms/step - loss: 0.7362 - accuracy: 0.7309 - val_loss: 1.0636 - val_accuracy: 0.6180\n"
     ]
    }
   ],
   "source": [
    "#Tarining the Model\n",
    "model.compile(loss='categorical_crossentropy', optimizer=Adam(learning_rate=0.0001, decay=1e-6), metrics=['accuracy'])\n",
    "model_history = model.fit(\n",
    "    train_generator,\n",
    "    steps_per_epoch=28709 // 64,\n",
    "    epochs=30,\n",
    "    validation_data=validation_generator,\n",
    "    validation_steps=7178 // 64)"
   ]
  },
  {
   "cell_type": "code",
   "execution_count": 10,
   "metadata": {},
   "outputs": [
    {
     "name": "stdout",
     "output_type": "stream",
     "text": [
      "dict_keys(['loss', 'accuracy', 'val_loss', 'val_accuracy'])\n"
     ]
    }
   ],
   "source": [
    "# list all data in history\n",
    "print(model_history.history.keys())"
   ]
  },
  {
   "cell_type": "code",
   "execution_count": 11,
   "metadata": {},
   "outputs": [
    {
     "data": {
      "image/png": "[encoded data removed]",
      "text/plain": [
       "<Figure size 432x288 with 1 Axes>"
      ]
     },
     "metadata": {
      "needs_background": "light"
     },
     "output_type": "display_data"
    }
   ],
   "source": [
    "# summarize history for loss\n",
    "plt.plot(model_history.history['loss'])\n",
    "plt.plot(model_history.history['val_loss'])\n",
    "plt.title('Model Loss')\n",
    "plt.ylabel('Loss')\n",
    "plt.xlabel('Epochs')\n",
    "plt.legend(['train','test'])\n",
    "plt.show()"
   ]
  },
  {
   "cell_type": "code",
   "execution_count": 12,
   "metadata": {},
   "outputs": [
    {
     "data": {
      "image/png": "[encoded data removed]",
      "text/plain": [
       "<Figure size 432x288 with 1 Axes>"
      ]
     },
     "metadata": {
      "needs_background": "light"
     },
     "output_type": "display_data"
    }
   ],
   "source": [
    "# summarize history for accuracy\n",
    "plt.plot(model_history.history['accuracy'])\n",
    "plt.plot(model_history.history['val_accuracy'])\n",
    "plt.title('Model Accuracy')\n",
    "plt.ylabel('Accuracy')\n",
    "plt.xlabel('Epoch')\n",
    "plt.legend(['train', 'test'], loc='upper left')\n",
    "plt.show()"
   ]
  },
  {
   "cell_type": "code",
   "execution_count": 14,
   "metadata": {},
   "outputs": [],
   "source": [
    "#Saving the Model Weight\n",
    "model.save_weights('model.h5')"
   ]
  }
 ],
 "metadata": {
  "interpreter": {
   "hash": "13eb0af71620a846e484681143862ad0a4deab6cadfc353264e5c14897c11035"
  },
  "kernelspec": {
   "display_name": "Python 3.9.9 64-bit",
   "language": "python",
   "name": "python3"
  },
  "language_info": {
   "codemirror_mode": {
    "name": "ipython",
    "version": 3
   },
   "file_extension": ".py",
   "mimetype": "text/x-python",
   "name": "python",
   "nbconvert_exporter": "python",
   "pygments_lexer": "ipython3",
   "version": "3.9.9"
  },
  "orig_nbformat": 4
 },
 "nbformat": 4,
 "nbformat_minor": 2
}
